{
 "cells": [
  {
   "cell_type": "code",
   "execution_count": null,
   "id": "electronic-tattoo",
   "metadata": {},
   "outputs": [],
   "source": [
    "import cv2\n",
    "# from cv2 import cv\n",
    "import numpy as np\n",
    "import os\n",
    "from skimage.transform import warp_polar\n",
    "\n",
    "img='015_06_R.bmp'\n",
    "image_read = cv2.imread(img)\n",
    "image_read1 = cv2.imread(img)\n",
    "output = image_read.copy()\n",
    "\n",
    "image_test = cv2.imread(img, cv2.IMREAD_GRAYSCALE)\n",
    "image_test = cv2.GaussianBlur(image_test, (7, 7), 1)\n",
    "#cv2.imshow(\"imagetest\", image_test)\n",
    "image_test = cv2.Canny(image_test, 80, 100, apertureSize=5)\n",
    "#cv2.imshow(\"image_test\", image_test)\n",
    "\n",
    "circles = cv2.HoughCircles(image_test,cv2.HOUGH_GRADIENT,1,2000,\n",
    "                            param1=70,param2=70,minRadius=0,maxRadius=0)\n",
    "circles = np.round(circles[0, :]).astype(\"int\")\n",
    " \n",
    "for (x, y, r) in circles:\n",
    "\t\t# draw the circle in the output image, then draw a rectangle\n",
    "\t\t# corresponding to the center of the circle\n",
    "\t\tcv2.circle(output, (x, y), r, (0, 255, 0), 1)\n",
    "\t\tcv2.rectangle(output, (x - 5, y - 5), (x + 5, y + 5), (0, 128, 255), -1)\n",
    "\n",
    "#cv2.imshow('detected circles',output)\n",
    "#cv2.waitKey(0)\n",
    "height,width,c = output.shape\n",
    "mask = np.zeros((height,width), np.uint8)\n",
    "circle_img = cv2.circle(mask,(x,y),r,(255,255,255),thickness=-1)\n",
    "masked_data = cv2.bitwise_and(image_read, image_read, mask=circle_img)\n",
    "_,thresh = cv2.threshold(mask,1,255,cv2.THRESH_BINARY)\n",
    "contours, _ = cv2.findContours(thresh,cv2.RETR_EXTERNAL,cv2.CHAIN_APPROX_SIMPLE)\n",
    "x,y,w,h = cv2.boundingRect(contours[0])\n",
    "crop = masked_data[y:y+h,x:x+w]\n",
    "\n",
    "#value = np.sqrt(((crop.shape[0]/2.0)**2.0)+((crop.shape[1]/2.0)**2.0))\n",
    "value = np.sqrt(((crop.shape[0]/2.0)**2.0)+((crop.shape[1]/2.0)**2.0))\n",
    "\n",
    "polar_image = cv2.linearPolar(crop,(crop.shape[0]/2, crop.shape[1]/2), value, cv2.WARP_FILL_OUTLIERS)\n",
    "cv2.imshow('detected ',crop)\n",
    "#warped_image = warp_polar(crop, radius=r, scaling=\"log\")\n",
    "'''cv.imshow('abc',warped_image)\n",
    "cv2.waitKey(0)'''\n",
    "cv2.imshow('detected circles',polar_image)\n",
    "cv2.waitKey(0)"
   ]
  },
  {
   "cell_type": "code",
   "execution_count": null,
   "id": "after-sheriff",
   "metadata": {},
   "outputs": [],
   "source": []
  }
 ],
 "metadata": {
  "kernelspec": {
   "display_name": "Python 3",
   "language": "python",
   "name": "python3"
  },
  "language_info": {
   "codemirror_mode": {
    "name": "ipython",
    "version": 3
   },
   "file_extension": ".py",
   "mimetype": "text/x-python",
   "name": "python",
   "nbconvert_exporter": "python",
   "pygments_lexer": "ipython3",
   "version": "3.9.1"
  }
 },
 "nbformat": 4,
 "nbformat_minor": 5
}
